{
 "cells": [
  {
   "cell_type": "markdown",
   "id": "12605911",
   "metadata": {},
   "source": [
    "# Miscellaneous recipes"
   ]
  },
  {
   "cell_type": "markdown",
   "id": "168a2233-be4e-4488-b9b3-f0f25c912203",
   "metadata": {},
   "source": [
    "## Getting data from MLHub"
   ]
  },
  {
   "cell_type": "code",
   "execution_count": null,
   "id": "c9352e3a-e706-43b7-a9a8-3cb95abaf6b7",
   "metadata": {},
   "outputs": [],
   "source": [
    "%pip install radiant_mlhub"
   ]
  },
  {
   "cell_type": "code",
   "execution_count": null,
   "id": "43040d7c-5b70-46a0-bf4e-671cff8f8bc8",
   "metadata": {},
   "outputs": [],
   "source": [
    "import os\n",
    "os.environ['MLHUB_API_KEY'] = '...'\n",
    "\n",
    "from radiant_mlhub import client, get_session\n",
    "import requests\n",
    "\n",
    "collections = client.list_collections()\n",
    "\n",
    "\n",
    "def get_url(collection_id: str, item_num: int, asset_id: str) -> str:\n",
    "    assets = get_assets(collection_id, item_num)\n",
    "    href = assets[asset_id]['href']\n",
    "    session = get_session()\n",
    "    r = session.get(href, stream=True, allow_redirects=True)\n",
    "    return r.url\n",
    "\n",
    "\n",
    "def get_assets(collection_id: str, item_num: int) -> list:\n",
    "    collection = next(c for c in collections if c['id'] == collection_id)\n",
    "    item = list(client.list_collection_items(collection['id']))[item_num]\n",
    "    return item['assets']"
   ]
  },
  {
   "cell_type": "code",
   "execution_count": null,
   "id": "1f698c18-51d4-49e7-83bc-1505606e1286",
   "metadata": {},
   "outputs": [],
   "source": [
    "uri_seninel_2_rgb = get_url('c2smsfloods_v1_source_s2', 4, 'RGB')\n",
    "uri_seninel_2_swir = get_url('c2smsfloods_v1_source_s2', 4, 'SWIR')\n",
    "uri_seninel_1_vh = get_url('c2smsfloods_v1_source_s1', 4, 'VH')\n",
    "uri_seninel_1_vv = get_url('c2smsfloods_v1_source_s1', 4, 'VV')"
   ]
  }
 ],
 "metadata": {
  "kernelspec": {
   "display_name": "Python 3.7.9 ('base')",
   "language": "python",
   "name": "python3"
  },
  "language_info": {
   "codemirror_mode": {
    "name": "ipython",
    "version": 3
   },
   "file_extension": ".py",
   "mimetype": "text/x-python",
   "name": "python",
   "nbconvert_exporter": "python",
   "pygments_lexer": "ipython3",
   "version": "3.7.9"
  },
  "vscode": {
   "interpreter": {
    "hash": "6850b013e1f3bd5bc88fc148f23f814e4d2f79564e8ea88f16f3069ee54d6960"
   }
  }
 },
 "nbformat": 4,
 "nbformat_minor": 5
}
